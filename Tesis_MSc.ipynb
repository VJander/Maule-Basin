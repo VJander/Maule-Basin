{
  "nbformat": 4,
  "nbformat_minor": 0,
  "metadata": {
    "colab": {
      "name": "Tesis MSc.ipynb",
      "provenance": [],
      "collapsed_sections": [],
      "authorship_tag": "ABX9TyP7isLZq2+3I5g8avQLz87B",
      "include_colab_link": true
    },
    "kernelspec": {
      "display_name": "Python 3",
      "name": "python3"
    },
    "language_info": {
      "name": "python"
    }
  },
  "cells": [
    {
      "cell_type": "markdown",
      "metadata": {
        "id": "view-in-github",
        "colab_type": "text"
      },
      "source": [
        "<a href=\"https://colab.research.google.com/github/VJander/Maule-Basin/blob/main/Tesis_MSc.ipynb\" target=\"_parent\"><img src=\"https://colab.research.google.com/assets/colab-badge.svg\" alt=\"Open In Colab\"/></a>"
      ]
    },
    {
      "cell_type": "code",
      "metadata": {
        "id": "6mHcENR23y0T"
      },
      "source": [
        "%pip uninstall numpy\n",
        "%pip install numpy"
      ],
      "execution_count": null,
      "outputs": []
    },
    {
      "cell_type": "code",
      "metadata": {
        "id": "sR-p5DzjUZ7r"
      },
      "source": [
        "from google.colab import drive\n",
        "drive.mount('/gdrive')\n",
        "%cd /gdrive/My\\ Drive/Tesis\n",
        "%ls"
      ],
      "execution_count": null,
      "outputs": []
    },
    {
      "cell_type": "code",
      "metadata": {
        "id": "bAW4yijLRUEd"
      },
      "source": [
        "%pip install Platypus-Opt\n",
        "%pip install pywr"
      ],
      "execution_count": null,
      "outputs": []
    },
    {
      "cell_type": "code",
      "metadata": {
        "colab": {
          "base_uri": "https://localhost:8080/"
        },
        "id": "4KSTc_MlT4bv",
        "outputId": "161e452b-90aa-44c5-8ee7-d6fc9d125a91"
      },
      "source": [
        "import json\n",
        "import pandas as pd\n",
        "import numpy as np\n",
        "import matplotlib.pyplot as plt\n",
        "import platypus\n",
        "import pywr\n",
        "from pywr.optimisation.platypus import PlatypusWrapper\n",
        "from Maule_parameters import *\n",
        "\n",
        "# Load the Model\n",
        "def get_model_data():\n",
        "    with open('PruebaMauleFinal_ConMedidas.json') as fh:\n",
        "        data = json.load(fh)\n",
        "    return data\n",
        "\n",
        "# Define platypus algorithm, and variable storing\n",
        "def platypus_main():\n",
        "    wrapper = PlatypusWrapper(get_model_data())\n",
        "    with platypus.ProcessPoolEvaluator() as evaluator:\n",
        "        algorithm = platypus.NSGAIII(wrapper.problem, population_size=50, evaluator=evaluator, divisions_outer=6)\n",
        "        algorithm.run(10000) \n",
        "\n",
        "    objective_names = []\n",
        "    objective_directions = []\n",
        "    for o in wrapper.model_objectives:\n",
        "        direction = 'MIN' if o.is_objective == 'minimise' else 'MAX'        \n",
        "        n = 'MO_{}_{}'.format(direction, o.name.replace('_', ' '))\n",
        "        objective_names.append(n)\n",
        "        objective_directions.append(1 if o.is_objective == 'minimise' else -1)\n",
        "    objective_directions = np.array(objective_directions)\n",
        "    objectives = pd.DataFrame([s.objectives[:]*objective_directions for s in algorithm.result], columns=objective_names)\n",
        "    variables = pd.DataFrame([s.variables[:] for s in algorithm.result],\n",
        "                    columns=['VAR_{}'.format(p.name.replace('_', ' ')) for p in wrapper.model_variables])\n",
        "    recorders = pd.DataFrame([s.objectives[:] for s in algorithm.result],\n",
        "                    columns=['REC_{}'.format(p.name.replace('_', ' ')) for p in wrapper.model_objectives])\n",
        "\n",
        "    df = pd.concat([objectives, variables, recorders], axis=1)\n",
        "    df.index.name = 'ID'\n",
        "    df.to_csv('Maule Results_S14.csv')  \n",
        "    \n",
        "    # from pandas.plotting import scatter_matrix\n",
        "    # scatter_matrix(objectives)\n",
        "    # plt.savefig('Two Reservoir Objectives.pdf', format='pdf')\n",
        "    # plt.show()\n",
        "\n",
        "# Use platypus created function\n",
        "if __name__ == '__main__':\n",
        "    platypus_main()\n",
        "\n",
        "# Print to verify it runs\n",
        "print(\"It worked!!\")"
      ],
      "execution_count": null,
      "outputs": [
        {
          "output_type": "stream",
          "text": [
            "¡¡Corrio todo carajo!!\n"
          ],
          "name": "stdout"
        }
      ]
    }
  ]
}